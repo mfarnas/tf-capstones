{
  "nbformat": 4,
  "nbformat_minor": 0,
  "metadata": {
    "colab": {
      "name": "FR_Capstone1_vf.ipynb",
      "provenance": [],
      "collapsed_sections": []
    },
    "kernelspec": {
      "display_name": "Python 3",
      "language": "python",
      "name": "python3"
    },
    "language_info": {
      "codemirror_mode": {
        "name": "ipython",
        "version": 3
      },
      "file_extension": ".py",
      "mimetype": "text/x-python",
      "name": "python",
      "nbconvert_exporter": "python",
      "pygments_lexer": "ipython3",
      "version": "3.7.3"
    }
  },
  "cells": [
    {
      "cell_type": "markdown",
      "metadata": {
        "colab_type": "text",
        "id": "L_O6GiaL12gM"
      },
      "source": [
        "# **Porosity and Permeability Analysis of Sedimentary Rocks**"
      ]
    },
    {
      "cell_type": "markdown",
      "metadata": {
        "colab_type": "text",
        "id": "H37D4aHx1pYa"
      },
      "source": [
        "This project explores the topic of porosity and permeability in detrital sedimentary rocks. \n",
        "\n",
        "**Definitions:**\n",
        "```\n",
        "> Porosity: the proportion of pore (void) spaces in a rock that is not occupied by solid matter\n",
        "> Permeability: the interconnectivity between the pore spaces\n",
        "> Detrital sedimentary rocks: rocks that are made of clasts, detritus, or fragments of other rocks and/or minerals\n",
        "```\n",
        "\n",
        "**Significance:**\n",
        "Porosity gives an indication as to how much fluid (oil, gas, and/or water) can be extracted from a rock. Rocks with high porosity are likely to hold more fluid. \n",
        "Permeability gives an indication as to how easily is it to extract the fluid from the rock. Typically, fluid in rocks with high permeability are likely to be more easily extracted.\n",
        " \n",
        "Ideally, to enhance hydrocarbon and groundwater recovery for consumption, we want to locate rocks with high porosity and high permeability.\n",
        "\n",
        "**Audience:**\n",
        "The appropriate audience include geostatisticians, geologists, engineers, and anybody who is interested in rocks at the pore scale! \n",
        "\n",
        "**Dataset:**\n",
        "Porosity and permeability datasets were gathered from 18 US Geological Survey (USGS) publications:\n",
        "* Publication no. 1,2,3,5,29,34,35,37,39,41,49,56,57,58,60,61,63,66 - these were selected based on data completeness\n",
        "*\tPorosity, permeability, grain size, and ancient depositional environment data are available [here](https://pubs.usgs.gov/of/2003/ofr-03-420/spreadsht.zip) (or [here](https://pubs.usgs.gov/of/2003/ofr-03-420/Table1.htm)\\)\n",
        "*\tDepositional environment data are also available [here](https://pubs.usgs.gov/of/2003/ofr-03-420/desc_rtf.zip)\n",
        "\n",
        "Since the datasets provided by USGS are semi-structured to unstructured, I have manually compiled them into [18 structured csv](https://github.com/mfarnas/tf-sharing-github/tree/master/poro_perm)'s corresponding to each selected publication. The columns of interest are: \n",
        "\n",
        "| Column        | Description   | Type|\n",
        "| ------------- |-------------| ---|\n",
        "| PORO      | porosity | continuous |\n",
        "| PERM      | permeability | continuous |\n",
        "| GRAINSIZE.1*      | grain size | categorical |\n",
        "| EOD_NMT**      | depositional environment | categorical |\n",
        "\n",
        "\\*For consistency, continuous grain-size values were converted into categorical data using the [Krumbein phi scale](https://wiki.seg.org/wiki/Sandstone#Grain_Size_and_Roundness).\n",
        "\n",
        "\\**I have also exerted domain knowledge to broadly classify the depositional environments into marine (M), transitional (T), and non-marine (NM).\n",
        "\n",
        "---\n",
        "\n",
        "**Research Questions:**\n",
        "\n",
        "This research aims to answer the following questions:\n",
        "1. Is there a correlation between porosity and permeability?\n",
        "2. Is there a significant difference in porosity and permeability in different depositional environments?\n",
        "3. Is there a significant difference in porosity and permeability in sedimentary deposits of different grain sizes?"
      ]
    },
    {
      "cell_type": "code",
      "metadata": {
        "colab_type": "code",
        "id": "SqS1jAXn35Py",
        "colab": {}
      },
      "source": [
        "import pandas as pd\n",
        "import numpy as np\n",
        "import os\n",
        "import matplotlib.pyplot as plt\n",
        "from scipy import stats"
      ],
      "execution_count": 0,
      "outputs": []
    },
    {
      "cell_type": "markdown",
      "metadata": {
        "colab_type": "text",
        "id": "jm3scsihHd2U"
      },
      "source": [
        "# Load & combine publication data into a master dataframe."
      ]
    },
    {
      "cell_type": "code",
      "metadata": {
        "colab_type": "code",
        "id": "t8S8rNVv35QG",
        "outputId": "a9cfc401-cf24-4a9d-f032-6059192a219b",
        "colab": {
          "base_uri": "https://localhost:8080/",
          "height": 234
        }
      },
      "source": [
        "# get a list of .csv files available in poro_perm folder\n",
        "file_loc = r\".\\poro_perm\"\n",
        "\n",
        "fileslist = [f for f in os.listdir(file_loc) \n",
        "          if os.path.isfile(os.path.join(file_loc, f)) and f.endswith(\".csv\")]\n",
        "\n",
        "file = iter(fileslist)"
      ],
      "execution_count": 0,
      "outputs": [
        {
          "output_type": "error",
          "ename": "FileNotFoundError",
          "evalue": "ignored",
          "traceback": [
            "\u001b[0;31m---------------------------------------------------------------------------\u001b[0m",
            "\u001b[0;31mFileNotFoundError\u001b[0m                         Traceback (most recent call last)",
            "\u001b[0;32m<ipython-input-2-30f46c19ed4c>\u001b[0m in \u001b[0;36m<module>\u001b[0;34m()\u001b[0m\n\u001b[1;32m      1\u001b[0m \u001b[0mfile_loc\u001b[0m \u001b[0;34m=\u001b[0m \u001b[0;34mr\".\\poro_perm\"\u001b[0m\u001b[0;34m\u001b[0m\u001b[0;34m\u001b[0m\u001b[0m\n\u001b[1;32m      2\u001b[0m \u001b[0;34m\u001b[0m\u001b[0m\n\u001b[0;32m----> 3\u001b[0;31m fileslist = [f for f in os.listdir(file_loc) \n\u001b[0m\u001b[1;32m      4\u001b[0m           if os.path.isfile(os.path.join(file_loc, f)) and f.endswith(\".csv\")]\n\u001b[1;32m      5\u001b[0m \u001b[0;34m\u001b[0m\u001b[0m\n",
            "\u001b[0;31mFileNotFoundError\u001b[0m: [Errno 2] No such file or directory: '.\\\\poro_perm'"
          ]
        }
      ]
    },
    {
      "cell_type": "code",
      "metadata": {
        "id": "vL7kPwcc9Doj",
        "colab_type": "code",
        "colab": {}
      },
      "source": [
        "# pass the next file name to the corresponding variables\n",
        "f1 = next(file)\n",
        "f2 = next(file)\n",
        "f3 = next(file)\n",
        "f4 = next(file)\n",
        "f5 = next(file)\n",
        "f6 = next(file)\n",
        "f7 = next(file)\n",
        "f8 = next(file)\n",
        "f9 = next(file)\n",
        "f10 = next(file)\n",
        "f11 = next(file)\n",
        "f12 = next(file)\n",
        "f13 = next(file)\n",
        "f14 = next(file)\n",
        "f15 = next(file)\n",
        "f16 = next(file)\n",
        "f17 = next(file)\n",
        "f18 = next(file)\n",
        "print(f18) # check for the last file name -- pass!"
      ],
      "execution_count": 0,
      "outputs": []
    },
    {
      "cell_type": "code",
      "metadata": {
        "colab_type": "code",
        "id": "uhWbAyGl35Qc",
        "colab": {}
      },
      "source": [
        "df1 = pd.read_csv(file_loc + '\\{}'.format(f1), skiprows = [1])\n",
        "df2 = pd.read_csv(file_loc + '\\{}'.format(f2), skiprows = [1])\n",
        "df3 = pd.read_csv(file_loc + '\\{}'.format(f3), skiprows = [1])\n",
        "df4 = pd.read_csv(file_loc + '\\{}'.format(f4), skiprows = [1])\n",
        "df5 = pd.read_csv(file_loc + '\\{}'.format(f5), skiprows = [1])\n",
        "df6 = pd.read_csv(file_loc + '\\{}'.format(f6), skiprows = [1])\n",
        "df7 = pd.read_csv(file_loc + '\\{}'.format(f7), skiprows = [1])\n",
        "df8 = pd.read_csv(file_loc + '\\{}'.format(f8), skiprows = [1])\n",
        "df9 = pd.read_csv(file_loc + '\\{}'.format(f9), skiprows = [1])\n",
        "df10 = pd.read_csv(file_loc + '\\{}'.format(f10), skiprows = [1])\n",
        "df11 = pd.read_csv(file_loc + '\\{}'.format(f11), skiprows = [1])\n",
        "df12 = pd.read_csv(file_loc + '\\{}'.format(f12), skiprows = [1])\n",
        "df13 = pd.read_csv(file_loc + '\\{}'.format(f13), skiprows = [1])\n",
        "df14 = pd.read_csv(file_loc + '\\{}'.format(f14), skiprows = [1])\n",
        "df15 = pd.read_csv(file_loc + '\\{}'.format(f15), skiprows = [1])\n",
        "df16 = pd.read_csv(file_loc + '\\{}'.format(f16), skiprows = [1])\n",
        "df17 = pd.read_csv(file_loc + '\\{}'.format(f17), skiprows = [1])\n",
        "df18 = pd.read_csv(file_loc + '\\{}'.format(f18), skiprows = [1])"
      ],
      "execution_count": 0,
      "outputs": []
    },
    {
      "cell_type": "code",
      "metadata": {
        "colab_type": "code",
        "id": "A6tQWd-L35Qi",
        "colab": {}
      },
      "source": [
        "# select relevant columns: porosity, permeability, grainsize, and environment of deposition\n",
        "col = ['PORO','PERM','GRAINSIZE.1','EOD_NMT']\n",
        "df1 = df1[col]\n",
        "df2 = df2[col]\n",
        "df3 = df3[col]\n",
        "df4 = df4[col]\n",
        "df5 = df5[col]\n",
        "df6 = df6[col]\n",
        "df7 = df7[col]\n",
        "df8 = df8[col]\n",
        "df9 = df9[col]\n",
        "df10 = df10[col]\n",
        "df11 = df11[col]\n",
        "df12 = df12[col]\n",
        "df13 = df13[col]\n",
        "df14 = df14[col]\n",
        "df15 = df15[col]\n",
        "df16 = df16[col]\n",
        "df17 = df17[col]\n",
        "df18 = df18[col]"
      ],
      "execution_count": 0,
      "outputs": []
    },
    {
      "cell_type": "code",
      "metadata": {
        "colab_type": "code",
        "id": "-IA8q0NG35Qy",
        "colab": {}
      },
      "source": [
        "# combine all dataframes into a single master dataframe\n",
        "df_master = pd.concat([df1,df2,df3,df4,df5,df6,df7,df8,df9,df10,df11,df12,df13,df14,df15,df16,df17,df18])\n",
        "df_master['GRAINSIZE.1'] = np.where(df_master['GRAINSIZE.1'] == 'Vf', 'vf', df_master['GRAINSIZE.1'])\n",
        "\n",
        "grainsize_dict = {'c': '00. c',\n",
        "                 'm': '01. m',\n",
        "                 'f': '02. f',\n",
        "                 'vf': '03. vf'}\n",
        "df_master['GRAINSIZE.1'] = df_master['GRAINSIZE.1'].map(grainsize_dict)\n",
        "\n",
        "df_master = df_master.rename(columns = {'GRAINSIZE.1':'GRAINSIZE_CAT'})\n",
        "df_master.head()"
      ],
      "execution_count": 0,
      "outputs": []
    },
    {
      "cell_type": "markdown",
      "metadata": {
        "colab_type": "text",
        "id": "aVr-1zUnEZVF"
      },
      "source": [
        "# 1. Is there a correlation between porosity and permeability?"
      ]
    },
    {
      "cell_type": "code",
      "metadata": {
        "colab_type": "code",
        "id": "_29Njag535RK",
        "colab": {}
      },
      "source": [
        "df = df_master.dropna(subset = ['PORO', 'PERM'])\n",
        "\n",
        "plt.plot(df.PORO, df.PERM, 'o')\n",
        "plt.xlabel('Porosity')\n",
        "plt.ylabel('Permeability')\n",
        "plt.show()"
      ],
      "execution_count": 0,
      "outputs": []
    },
    {
      "cell_type": "code",
      "metadata": {
        "colab_type": "code",
        "id": "YXsbbIox35Rb",
        "colab": {}
      },
      "source": [
        "# r for PORO-PERM\n",
        "stats.pearsonr(df.PORO, df.PERM)"
      ],
      "execution_count": 0,
      "outputs": []
    },
    {
      "cell_type": "markdown",
      "metadata": {
        "colab_type": "text",
        "id": "99n-hmvju31j"
      },
      "source": [
        "Pearson's correlation coefficient reveals a moderate positive correlation between porosity and permeability (r~0.42). Next, we log-transform the permeability data to observe its effect."
      ]
    },
    {
      "cell_type": "code",
      "metadata": {
        "colab_type": "code",
        "id": "vHay9C0T35RP",
        "colab": {}
      },
      "source": [
        "# log-transform the data to get a more linear distribution\n",
        "df['perm_log10'] = np.log10(df.PERM)\n",
        "\n",
        "# remove infinity values\n",
        "inf = np.inf\n",
        "df_log = df.query('perm_log10 != -@inf')\n",
        "\n",
        "plt.plot(df_log.PORO, df_log.perm_log10, 'o')\n",
        "plt.xlabel('Porosity')\n",
        "plt.ylabel('log(Permeability)')\n",
        "plt.show()"
      ],
      "execution_count": 0,
      "outputs": []
    },
    {
      "cell_type": "code",
      "metadata": {
        "colab_type": "code",
        "id": "7FyPmwS835Rh",
        "colab": {}
      },
      "source": [
        "# r for PORO, log(PERM) - better result!\n",
        "stats.pearsonr(df_log.PORO, np.log10(df_log.PERM))"
      ],
      "execution_count": 0,
      "outputs": []
    },
    {
      "cell_type": "markdown",
      "metadata": {
        "colab_type": "text",
        "id": "j23OevTK1noQ"
      },
      "source": [
        "The log transformation reveals a strong positive correlation between porosity and log(permeability) (r~0.82).  \n",
        "We can find the equation of line of best fit as the following:"
      ]
    },
    {
      "cell_type": "code",
      "metadata": {
        "id": "SFvJY8AN9DqM",
        "colab_type": "code",
        "colab": {}
      },
      "source": [
        "# denominator = X.dot(X) - X.mean()*X.sum()\n",
        "# m = (X.dot(y) - y.mean()*X.sum()) / denominator\n",
        "# b = (y.mean()*X.dot(X) - X.mean()*X.dot(y)) / denominator"
      ],
      "execution_count": 0,
      "outputs": []
    },
    {
      "cell_type": "code",
      "metadata": {
        "id": "fbRI5OeI9DqV",
        "colab_type": "code",
        "colab": {}
      },
      "source": [
        "denominator = df_log.PORO.dot(df_log.PORO) - df_log.PORO.mean() * df_log.PORO.sum()\n",
        "\n",
        "m = (df_log.PORO.dot(np.log10(df_log.PERM)) - np.log10(df_log.PERM).mean() * df_log.PORO.sum()) / denominator\n",
        "b = (np.log10(df_log.PERM).mean() * df_log.PORO.dot(df_log.PORO) - df_log.PORO.mean() * df_log.PORO.dot(np.log10(df_log.PERM))) / denominator\n",
        "\n",
        "y_pred = m * df_log.PORO + b\n",
        "\n",
        "print('Line of best fit: log(permeability) = {:04.2f}*porosity {:=04.2f}'.format(m, b))"
      ],
      "execution_count": 0,
      "outputs": []
    },
    {
      "cell_type": "code",
      "metadata": {
        "id": "b0nI7LDn9Dqc",
        "colab_type": "code",
        "colab": {}
      },
      "source": [
        "plt.plot(df_log.PORO, df_log.perm_log10, 'o')\n",
        "plt.plot(df_log.PORO, y_pred, 'r')\n",
        "plt.xlabel('Porosity')\n",
        "plt.ylabel('log(Permeability)')\n",
        "plt.show()"
      ],
      "execution_count": 0,
      "outputs": []
    },
    {
      "cell_type": "markdown",
      "metadata": {
        "colab_type": "text",
        "id": "lL4vFTtQEm4o"
      },
      "source": [
        "# 2. Analyzing the Effect of Depositional Environments\n",
        "\n"
      ]
    },
    {
      "cell_type": "markdown",
      "metadata": {
        "colab_type": "text",
        "id": "OeYMzHZEFSby"
      },
      "source": [
        "## a) Is there a significant difference in porosity in different depositional environments (marine vs nonmarine)? "
      ]
    },
    {
      "cell_type": "code",
      "metadata": {
        "colab_type": "code",
        "id": "krHntu4w35Rm",
        "colab": {}
      },
      "source": [
        "df_log.PORO.hist(by = df_log.EOD_NMT, figsize=(10,5))\n",
        "\n",
        "print('Marine:\\t', stats.describe(df_log.PORO[df_log.EOD_NMT == 'M']))\n",
        "print('Non-Marine:\\t', stats.describe(df_log.PORO[df_log.EOD_NMT == 'NM']))\n",
        "print('Transitional:\\t', stats.describe(df_log.PORO[df_log.EOD_NMT == 'T']))"
      ],
      "execution_count": 0,
      "outputs": []
    },
    {
      "cell_type": "markdown",
      "metadata": {
        "colab_type": "text",
        "id": "j81OEVh52qPP"
      },
      "source": [
        "Since 'T' has too little datapoints (51 observations), we will drop it from further analysis. We run the Shapiro-Wilk test to test for normality of the marine (M) and non-marine (NM) datasets."
      ]
    },
    {
      "cell_type": "code",
      "metadata": {
        "colab_type": "code",
        "id": "rAM12EFo35Rs",
        "colab": {}
      },
      "source": [
        "print('Shapiro-Wilk - Porosity')\n",
        "print('Marine: \\t', stats.shapiro(df_log.PORO[df_log.EOD_NMT == 'M']))\n",
        "print('Non-Marine:\\t', stats.shapiro(df_log.PORO[df_log.EOD_NMT == 'NM']))"
      ],
      "execution_count": 0,
      "outputs": []
    },
    {
      "cell_type": "markdown",
      "metadata": {
        "colab_type": "text",
        "id": "TweJSr0x30oL"
      },
      "source": [
        "Each p-value is less than 0.05 while W is close to 1. It appears that each are not normally distributed. Hence, we run the Kruskal-Wallis test for nonparametric distributions."
      ]
    },
    {
      "cell_type": "code",
      "metadata": {
        "colab_type": "code",
        "id": "heITCOk_35R1",
        "colab": {}
      },
      "source": [
        "print('Kruskal-Wallis - Porosity')\n",
        "stats.kruskal(df_log.PORO[df_log.EOD_NMT == 'M'], df_log.PORO[df_log.EOD_NMT == 'NM'])"
      ],
      "execution_count": 0,
      "outputs": []
    },
    {
      "cell_type": "markdown",
      "metadata": {
        "colab_type": "text",
        "id": "qyfLOoIi62IW"
      },
      "source": [
        "Since the p-value is high (>0.05), we fail to reject the null hypothesis and conclude that there is no significant difference in porosity between marine and non-marine sandstones."
      ]
    },
    {
      "cell_type": "markdown",
      "metadata": {
        "colab_type": "text",
        "id": "XQRcQtRxFZi2"
      },
      "source": [
        "## b) Is there a significant difference in permeability in different depositional environments (marine vs nonmarine)? "
      ]
    },
    {
      "cell_type": "code",
      "metadata": {
        "colab_type": "code",
        "id": "9RDQCVHA35R8",
        "colab": {}
      },
      "source": [
        "df_log.perm_log10.hist(by = df_log.EOD_NMT, figsize=(10,5))\n",
        "\n",
        "print('Marine:\\t', stats.describe(df_log.perm_log10[df_log.EOD_NMT == 'M']))\n",
        "print('Non-Marine:\\t', stats.describe(df_log.perm_log10[df_log.EOD_NMT == 'NM']))\n",
        "print('Transitional:\\t', stats.describe(df_log.perm_log10[df_log.EOD_NMT == 'T']))"
      ],
      "execution_count": 0,
      "outputs": []
    },
    {
      "cell_type": "markdown",
      "metadata": {
        "colab_type": "text",
        "id": "zm4ok8TZ7jQT"
      },
      "source": [
        "Once again, since 'T' has too little datapoints (51 observations), we will drop it from further analysis. We run the Shapiro-Wilk test to test for normality of the marine (M) and non-marine (NM) datasets.\n",
        "\n"
      ]
    },
    {
      "cell_type": "code",
      "metadata": {
        "colab_type": "code",
        "id": "bVjEGcXh35SI",
        "colab": {}
      },
      "source": [
        "print('Shapiro-Wilk - Permeability')\n",
        "print('Marine: \\t', stats.shapiro(df_log.perm_log10[df_log.EOD_NMT == 'M']))\n",
        "print('Non-Marine:\\t', stats.shapiro(df_log.perm_log10[df_log.EOD_NMT == 'NM']))"
      ],
      "execution_count": 0,
      "outputs": []
    },
    {
      "cell_type": "markdown",
      "metadata": {
        "colab_type": "text",
        "id": "Irf3zzSZ7rud"
      },
      "source": [
        "Each p-value is less than 0.05. It appears that each are not normally distributed. Hence, we run the Kruskal-Wallis test for nonparametric distributions."
      ]
    },
    {
      "cell_type": "code",
      "metadata": {
        "colab_type": "code",
        "id": "CF_2WFRN35SN",
        "colab": {}
      },
      "source": [
        "print('Kruskal-Wallis - Permeability')\n",
        "stats.kruskal(df_log.perm_log10[df_log.EOD_NMT == 'M'], df_log.perm_log10[df_log.EOD_NMT == 'NM'])\n",
        "stats.kruskal(df_log.PERM[df_log.EOD_NMT == 'M'], df_log.PERM[df_log.EOD_NMT == 'NM'])"
      ],
      "execution_count": 0,
      "outputs": []
    },
    {
      "cell_type": "markdown",
      "metadata": {
        "colab_type": "text",
        "id": "i7uq03ch8AU4"
      },
      "source": [
        "Since the p-value is low (< 0.05), we reject the null hypothesis and conclude that there is significant difference in permeability between marine and non-marine sandstones."
      ]
    },
    {
      "cell_type": "code",
      "metadata": {
        "colab_type": "code",
        "id": "Qmmvtp7735SB",
        "colab": {}
      },
      "source": [
        "df_log.query('EOD_NMT == [\"M\", \"NM\"]').boxplot('perm_log10', by = 'EOD_NMT', figsize=(5,5))"
      ],
      "execution_count": 0,
      "outputs": []
    },
    {
      "cell_type": "code",
      "metadata": {
        "id": "ivhrX02X9Dsn",
        "colab_type": "code",
        "colab": {}
      },
      "source": [
        "# calculate difference in median btwn marine and nonmarine\n",
        "df_log.PERM[df_log.EOD_NMT == \"NM\"].median() - df_log.PERM[df_log.EOD_NMT == \"M\"].median()"
      ],
      "execution_count": 0,
      "outputs": []
    },
    {
      "cell_type": "markdown",
      "metadata": {
        "colab_type": "text",
        "id": "FM5lFzmk8Q3M"
      },
      "source": [
        "Looking at the boxplot, we see a slight difference in medians between the marine and non-marine datasets (NM is about 0.28 millidarcy higher than M). Our test suggests that this difference is statistically significant (i.e. is not due to random errors or sampling bias)."
      ]
    },
    {
      "cell_type": "code",
      "metadata": {
        "colab_type": "code",
        "id": "Q3rDOPzZ35SZ",
        "colab": {}
      },
      "source": [
        "# extra analysis - no distinct pattern seen\n",
        "import seaborn as sns\n",
        "sns.scatterplot(data = df_log, x = 'PORO', y = 'perm_log10', hue = 'EOD_NMT')"
      ],
      "execution_count": 0,
      "outputs": []
    },
    {
      "cell_type": "markdown",
      "metadata": {
        "colab_type": "text",
        "id": "Z6W8AZbWFlwh"
      },
      "source": [
        "# 3. Analyzing the Effect of Grain Sizes"
      ]
    },
    {
      "cell_type": "markdown",
      "metadata": {
        "colab_type": "text",
        "id": "H0n5qzekFyCU"
      },
      "source": [
        "## a) Is there a significant difference in porosity in sedimentary deposits of different grain sizes?"
      ]
    },
    {
      "cell_type": "code",
      "metadata": {
        "colab_type": "code",
        "id": "KCcccLUa35Sr",
        "colab": {}
      },
      "source": [
        "df_log = df_log.query('GRAINSIZE_CAT != \"silt\"')\n",
        "df_log.PORO.hist(by = df_log.GRAINSIZE_CAT, figsize=(10,5))\n",
        "\n",
        "print('coarse:\\t', stats.describe(df_log.PORO[df_log.GRAINSIZE_CAT == '00. c']))\n",
        "print('medium:\\t', stats.describe(df_log.PORO[df_log.GRAINSIZE_CAT == '01. m']))\n",
        "print('fine:\\t', stats.describe(df_log.PORO[df_log.GRAINSIZE_CAT == '02. f']))\n",
        "print('very fine:', stats.describe(df_log.PORO[df_log.GRAINSIZE_CAT == '03. vf']))"
      ],
      "execution_count": 0,
      "outputs": []
    },
    {
      "cell_type": "markdown",
      "metadata": {
        "colab_type": "text",
        "id": "Y7Y1GibG9MwM"
      },
      "source": [
        "Since the coarse-grained samples (c) are too few (48 observations), we will drop it from further analysis. We run the Shapiro-Wilk test to test for normality of the medium- (m), fine- (f), and very fine- (vf) grained sandstones."
      ]
    },
    {
      "cell_type": "code",
      "metadata": {
        "colab_type": "code",
        "id": "6e_CkJ_L35S2",
        "colab": {}
      },
      "source": [
        "print('Shapiro-Wilk - Porosity')\n",
        "print('medium:\\t', stats.shapiro(df_log.PORO[df_log.GRAINSIZE_CAT == '01. m']))\n",
        "print('fine:\\t', stats.shapiro(df_log.PORO[df_log.GRAINSIZE_CAT == '02. f']))\n",
        "print('very fine:', stats.shapiro(df_log.PORO[df_log.GRAINSIZE_CAT == '03. vf']))"
      ],
      "execution_count": 0,
      "outputs": []
    },
    {
      "cell_type": "markdown",
      "metadata": {
        "colab_type": "text",
        "id": "avrEl-FL914J"
      },
      "source": [
        "Each p-value is less than 0.05. It appears that each are not normally distributed. Hence, we run the Kruskal-Wallis test for nonparametric distributions."
      ]
    },
    {
      "cell_type": "code",
      "metadata": {
        "colab_type": "code",
        "id": "AZwc9Szu35S7",
        "colab": {}
      },
      "source": [
        "print('Kruskal-Wallis - Porosity')\n",
        "print(stats.kruskal(df_log.PORO[df_log.GRAINSIZE_CAT == '01. m'], \n",
        "                    df_log.PORO[df_log.GRAINSIZE_CAT == '02. f'],\n",
        "                    df_log.PORO[df_log.GRAINSIZE_CAT == '03. vf']))\n",
        "\n",
        "# run Kruskal-Wallis for each pair of variables\n",
        "print('medium vs fine: \\t', \n",
        "      stats.kruskal(df_log.PORO[df_log.GRAINSIZE_CAT == '01. m'], df_log.PORO[df_log.GRAINSIZE_CAT == '02. f']))\n",
        "print('fine vs very fine:\\t', \n",
        "      stats.kruskal(df_log.PORO[df_log.GRAINSIZE_CAT == '02. f'], df_log.PORO[df_log.GRAINSIZE_CAT == '03. vf']))\n",
        "print('very fine vs medium:\\t', \n",
        "      stats.kruskal(df_log.PORO[df_log.GRAINSIZE_CAT == '03. vf'], df_log.PORO[df_log.GRAINSIZE_CAT == '01. m']))      "
      ],
      "execution_count": 0,
      "outputs": []
    },
    {
      "cell_type": "markdown",
      "metadata": {
        "colab_type": "text",
        "id": "G8COmP5N-PjT"
      },
      "source": [
        "Since the p-values are low (< 0.05), we reject the null hypothesis and conclude that there is significant difference in porosity between medium-, fine-, and very fine-grained sandstones."
      ]
    },
    {
      "cell_type": "code",
      "metadata": {
        "colab_type": "code",
        "id": "kdtiwjc235Sw",
        "colab": {}
      },
      "source": [
        "df_log.query('GRAINSIZE_CAT == [\"01. m\", \"02. f\", \"03. vf\"]').boxplot('PORO', by = 'GRAINSIZE_CAT', figsize=(8,5))"
      ],
      "execution_count": 0,
      "outputs": []
    },
    {
      "cell_type": "code",
      "metadata": {
        "id": "G8Ss8k8w9Dud",
        "colab_type": "code",
        "colab": {}
      },
      "source": [
        "# calculate difference in median between medium and fine\n",
        "df_log.PORO[df_log.GRAINSIZE_CAT == \"01. m\"].median() - df_log.PORO[df_log.GRAINSIZE_CAT == \"02. f\"].median()"
      ],
      "execution_count": 0,
      "outputs": []
    },
    {
      "cell_type": "code",
      "metadata": {
        "id": "hg1TU2Kq9Duo",
        "colab_type": "code",
        "colab": {}
      },
      "source": [
        "# calculate difference in median between fine and very fine\n",
        "df_log.PORO[df_log.GRAINSIZE_CAT == \"02. f\"].median() - df_log.PORO[df_log.GRAINSIZE_CAT == \"03. vf\"].median()"
      ],
      "execution_count": 0,
      "outputs": []
    },
    {
      "cell_type": "markdown",
      "metadata": {
        "colab_type": "text",
        "id": "rvZHOS2t-y-u"
      },
      "source": [
        "Looking at the boxplot, we see that the medium-grained sandstones have the highest median porosity, followed by fine-grained then very fine-grained sandstones. The medium-grained sandstones have about 4.2% more porosity than the fine-grained sandstones, and the fine-grained sandstones have about 3.7% more porosity than the very fine-grained sandstones."
      ]
    },
    {
      "cell_type": "markdown",
      "metadata": {
        "colab_type": "text",
        "id": "8vbL2YvFGBZI"
      },
      "source": [
        "## b) Is there a significant difference in permeability in sedimentary deposits of different grain sizes?"
      ]
    },
    {
      "cell_type": "code",
      "metadata": {
        "colab_type": "code",
        "id": "atdfiyyE35TF",
        "colab": {}
      },
      "source": [
        "df_log = df_log.query('GRAINSIZE_CAT != \"silt\"')\n",
        "df_log.perm_log10.hist(by = df_log.GRAINSIZE_CAT, figsize=(10,5))\n",
        "\n",
        "print('coarse:\\t', stats.describe(df_log.perm_log10[df_log.GRAINSIZE_CAT == '00. c']))\n",
        "print('medium:\\t', stats.describe(df_log.perm_log10[df_log.GRAINSIZE_CAT == '01. m']))\n",
        "print('fine:\\t', stats.describe(df_log.perm_log10[df_log.GRAINSIZE_CAT == '02. f']))\n",
        "print('very fine:\\t', stats.describe(df_log.perm_log10[df_log.GRAINSIZE_CAT == '03. vf']))"
      ],
      "execution_count": 0,
      "outputs": []
    },
    {
      "cell_type": "markdown",
      "metadata": {
        "colab_type": "text",
        "id": "7wDZnlPu-DZM"
      },
      "source": [
        "Once again, since the coarse-grained samples (c) are too few (48 observations), we will drop it from further analysis. We run the Shapiro-Wilk test to test for normality of the medium- (m), fine- (f), and very fine- (vf) grained sandstones."
      ]
    },
    {
      "cell_type": "code",
      "metadata": {
        "colab_type": "code",
        "id": "iw5Oey7N35TV",
        "colab": {}
      },
      "source": [
        "print('Shapiro-Wilk - Permeability')\n",
        "print('medium:\\t', stats.shapiro(df_log.perm_log10[df_log.GRAINSIZE_CAT == '01. m']))\n",
        "print('fine:\\t', stats.shapiro(df_log.perm_log10[df_log.GRAINSIZE_CAT == '02. f']))\n",
        "print('very fine:\\t', stats.shapiro(df_log.perm_log10[df_log.GRAINSIZE_CAT == '03. vf']))"
      ],
      "execution_count": 0,
      "outputs": []
    },
    {
      "cell_type": "markdown",
      "metadata": {
        "colab_type": "text",
        "id": "Aom3pVA195Fh"
      },
      "source": [
        "Each p-value is less than 0.05. It appears that each are not normally distributed. Hence, we run the Kruskal-Wallis test for nonparametric distributions."
      ]
    },
    {
      "cell_type": "code",
      "metadata": {
        "colab_type": "code",
        "id": "aK2_G0_335Te",
        "colab": {}
      },
      "source": [
        "print('Kruskal-Wallis - Permeability')\n",
        "print(stats.kruskal(df_log.perm_log10[df_log.GRAINSIZE_CAT == '01. m'], \n",
        "                    df_log.perm_log10[df_log.GRAINSIZE_CAT == '02. f'],\n",
        "                    df_log.perm_log10[df_log.GRAINSIZE_CAT == '03. vf']))\n",
        "\n",
        "# run Kruskal-Wallis for each pair of variables\n",
        "print('medium vs fine: \\t', \n",
        "      stats.kruskal(df_log.perm_log10[df_log.GRAINSIZE_CAT == '01. m'], df_log.perm_log10[df_log.GRAINSIZE_CAT == '02. f']))\n",
        "print('fine vs very fine:\\t', \n",
        "      stats.kruskal(df_log.perm_log10[df_log.GRAINSIZE_CAT == '02. f'], df_log.perm_log10[df_log.GRAINSIZE_CAT == '03. vf']))\n",
        "print('very fine vs medium:\\t', \n",
        "      stats.kruskal(df_log.perm_log10[df_log.GRAINSIZE_CAT == '03. vf'], df_log.perm_log10[df_log.GRAINSIZE_CAT == '01. m']))      "
      ],
      "execution_count": 0,
      "outputs": []
    },
    {
      "cell_type": "markdown",
      "metadata": {
        "colab_type": "text",
        "id": "_TRt6eoC_Ym-"
      },
      "source": [
        "Since the p-values are low (< 0.05), we reject the null hypothesis and conclude that there is significant difference in log permeability between medium-, fine-, and very fine-grained sandstones."
      ]
    },
    {
      "cell_type": "code",
      "metadata": {
        "colab_type": "code",
        "id": "cX0dY5k335TM",
        "colab": {}
      },
      "source": [
        "df_log.query('GRAINSIZE_CAT == [\"01. m\", \"02. f\", \"03. vf\"]').boxplot('perm_log10', by = 'GRAINSIZE_CAT', figsize=(8,5))"
      ],
      "execution_count": 0,
      "outputs": []
    },
    {
      "cell_type": "code",
      "metadata": {
        "id": "VyQUPPah9Dv-",
        "colab_type": "code",
        "colab": {}
      },
      "source": [
        "# calculate difference in median between medium and fine, then backtransform to original value\n",
        "log_med_diff = df_log.perm_log10[df_log.GRAINSIZE_CAT == \"01. m\"].median() - df_log.perm_log10[df_log.GRAINSIZE_CAT == \"02. f\"].median()\n",
        "actual_diff = 10**log_med_diff\n",
        "actual_diff"
      ],
      "execution_count": 0,
      "outputs": []
    },
    {
      "cell_type": "code",
      "metadata": {
        "id": "lENTazSe9DwJ",
        "colab_type": "code",
        "colab": {}
      },
      "source": [
        "# calculate difference in median between fine and very fine, then backtransform to original value\n",
        "log_med_diff = df_log.perm_log10[df_log.GRAINSIZE_CAT == \"02. f\"].median() - df_log.perm_log10[df_log.GRAINSIZE_CAT == \"03. vf\"].median()\n",
        "actual_diff = 10**log_med_diff\n",
        "actual_diff"
      ],
      "execution_count": 0,
      "outputs": []
    },
    {
      "cell_type": "markdown",
      "metadata": {
        "colab_type": "text",
        "id": "N2umshPr_mzp"
      },
      "source": [
        "Looking at the boxplot, we see that the medium-grained sandstones have the highest median permeability (34 mD higher than fine-grained), followed by fine-grained which is 7.6 mD higher than very fine-grained sandstones."
      ]
    },
    {
      "cell_type": "code",
      "metadata": {
        "colab_type": "code",
        "id": "HcVXnabU35Ti",
        "colab": {}
      },
      "source": [
        "# extra analysis - no distinct pattern seen\n",
        "sns.scatterplot(data = df_log, x = 'PORO', y = 'perm_log10', hue = 'GRAINSIZE_CAT')"
      ],
      "execution_count": 0,
      "outputs": []
    },
    {
      "cell_type": "code",
      "metadata": {
        "colab_type": "code",
        "id": "QaCwMf_w35Tl",
        "colab": {}
      },
      "source": [
        "# Conclusion"
      ],
      "execution_count": 0,
      "outputs": []
    },
    {
      "cell_type": "code",
      "metadata": {
        "colab_type": "code",
        "id": "Y77emSz535Tp",
        "colab": {}
      },
      "source": [
        "From this experiment, we conclude the following:\n",
        "1. There is a strong positive correlation between porosity and log(permeability) (r~0.82).\n",
        "2. a. There is no significant difference in porosity between marine and non-marine sandstones.  \n",
        "b. There is significant difference in permeability between marine and non-marine sandstones, with the median of nonmarine being slightly higher than marine.\n",
        "3. a. There is significant difference in porosity between medium-, fine-, and very fine-grained sandstones, with medium-grained sandstones having the highest median porosity, followed by fine-grained then very fine-grained sandstones.  \n",
        "b. There is significant difference in permeability between medium-, fine-, and very fine-grained sandstones, with medium-grained sandstones having the highest median permeability, followed by fine-grained then very fine-grained sandstones.\n",
        "    \n",
        "Implication:\n",
        "1. We can predict porosity from permeability of sandstones and vice versa (high porosity yields high permeability).\n",
        "2. Even though there is statistical significance in the differences in permeability between marine and non-marine sandstones, the difference of 0.28 mD may not have significant business impact in terms of the ease of extracting fluids or fossil fuels. Thus, there might not be a difference permeability-wise whether we're drilling in marine or non-marine environments.\n",
        "3. The best kind of sandstones to drill to (easily) extract fluids from are coarser-grained sandstones than finer-grained ones.\n",
        "\n",
        "Suggestion for further research:\n",
        "1. Collect more transitional and coarse sample datasets to compare against current analysis\n",
        "2. Collect datasets for different kinds of rocks other than sandstones\n",
        "3. Differentiate further the different marine and non-marine depositional environments (e.g. coastal, dune, fluvial, marine shelf etc) to observe its effect on porosity and permeability"
      ],
      "execution_count": 0,
      "outputs": []
    }
  ]
}